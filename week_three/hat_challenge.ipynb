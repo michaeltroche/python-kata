{
 "cells": [
  {
   "cell_type": "markdown",
   "id": "9c7eba1a",
   "metadata": {},
   "source": [
    "# Hat Challenge"
   ]
  },
  {
   "cell_type": "code",
   "execution_count": 1,
   "id": "34e8d382",
   "metadata": {},
   "outputs": [],
   "source": [
    "hats = ['B', 'R', 'R', 'R', 'B', 'R', 'R', 'B']\n",
    "red_hat_counts = []\n",
    "\n",
    "guesses = []\n",
    "scores = []"
   ]
  },
  {
   "cell_type": "code",
   "execution_count": 2,
   "id": "60bdf8b6",
   "metadata": {},
   "outputs": [],
   "source": [
    "# First player guesses 'R' if they see an odd no of red hats\n",
    "first_player_hats = hats[1:]\n",
    "first_red_hat_count = first_player_hats.count('R')\n",
    "red_hat_counts.append(first_red_hat_count)\n",
    "\n",
    "if first_red_hat_count % 2 == 1:\n",
    "    first_player_guess = 'R'\n",
    "else:\n",
    "    first_player_guess = 'B'\n",
    "guesses.append(first_player_guess)\n",
    "\n",
    "# Players following first player\n",
    "for i in range(1, len(hats)):\n",
    "\n",
    "    current_player_hats = hats[i+1:]\n",
    "    red_hat_count = current_player_hats.count('R')\n",
    "    red_hat_counts.append(red_hat_count)\n",
    "    \n",
    "    current_player_expects = red_hat_counts[-2] % 2\n",
    "    current_player_sees    = red_hat_counts[-1] % 2\n",
    "    \n",
    "    if abs(current_player_expects - current_player_sees) == 1:\n",
    "        current_player_guess = 'R'\n",
    "    else:\n",
    "        current_player_guess = 'B'\n",
    "    guesses.append(current_player_guess)\n",
    "    \n",
    "    if guesses[i] == hats[i]:\n",
    "        scores.append('correct')\n",
    "    else:\n",
    "        scores.append('wrong')"
   ]
  },
  {
   "cell_type": "code",
   "execution_count": 7,
   "id": "cfbe7fce",
   "metadata": {},
   "outputs": [
    {
     "data": {
      "text/plain": [
       "['B', 'R', 'R', 'R', 'B', 'R', 'R', 'B']"
      ]
     },
     "execution_count": 7,
     "metadata": {},
     "output_type": "execute_result"
    }
   ],
   "source": [
    "hats"
   ]
  },
  {
   "cell_type": "code",
   "execution_count": 5,
   "id": "d266fe90",
   "metadata": {},
   "outputs": [
    {
     "data": {
      "text/plain": [
       "['R', 'R', 'R', 'R', 'B', 'R', 'R', 'B']"
      ]
     },
     "execution_count": 5,
     "metadata": {},
     "output_type": "execute_result"
    }
   ],
   "source": [
    "guesses"
   ]
  },
  {
   "cell_type": "code",
   "execution_count": 6,
   "id": "fe182542",
   "metadata": {},
   "outputs": [
    {
     "data": {
      "text/plain": [
       "['correct', 'correct', 'correct', 'correct', 'correct', 'correct', 'correct']"
      ]
     },
     "execution_count": 6,
     "metadata": {},
     "output_type": "execute_result"
    }
   ],
   "source": [
    "scores"
   ]
  }
 ],
 "metadata": {
  "kernelspec": {
   "display_name": "ee-simo-upg-venv",
   "language": "python",
   "name": "ee-simo-upg-venv"
  },
  "language_info": {
   "codemirror_mode": {
    "name": "ipython",
    "version": 3
   },
   "file_extension": ".py",
   "mimetype": "text/x-python",
   "name": "python",
   "nbconvert_exporter": "python",
   "pygments_lexer": "ipython3",
   "version": "3.6.13"
  }
 },
 "nbformat": 4,
 "nbformat_minor": 5
}
